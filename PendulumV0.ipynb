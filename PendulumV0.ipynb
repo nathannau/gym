{
 "cells": [
  {
   "cell_type": "code",
   "execution_count": 2,
   "metadata": {},
   "outputs": [],
   "source": [
    "import gym\n",
    "import numpy as np"
   ]
  },
  {
   "cell_type": "code",
   "execution_count": 4,
   "metadata": {},
   "outputs": [],
   "source": [
    "#env = gym.make('CartPole-v1')\n",
    "#env = gym.make('MountainCarContinuous-v0')\n",
    "env = gym.make('Pendulum-v0')\n",
    "\n"
   ]
  },
  {
   "cell_type": "code",
   "execution_count": 29,
   "metadata": {},
   "outputs": [
    {
     "name": "stdout",
     "output_type": "stream",
     "text": [
      "[2.70129780e-04 9.99999964e-01 9.46570976e-01] 0.9465709755983609 0\n"
     ]
    }
   ],
   "source": [
    "s = env.reset()\n",
    "i = 0\n",
    "r = 0\n",
    "for _ in range(1):\n",
    "    env.render()\n",
    "    # env.step(env.action_space.sample()) # take a random action\n",
    "    #s = env.step(i) # take a random action    \n",
    "    #a = if s\n",
    "    #s  = np.sign(s);\n",
    "    #a = s[0] if (s[0]*s[1]>0) else 0.\n",
    "    a = s[2]\n",
    "    print(s, a, r)\n",
    "    s, r, done, info = env.step([a]) # take a random action\n",
    "    \n",
    "    #print(s)\n",
    "    if done: env.reset()\n",
    "    i = 1 - i\n",
    "    "
   ]
  },
  {
   "cell_type": "code",
   "execution_count": 8,
   "metadata": {},
   "outputs": [
    {
     "name": "stdout",
     "output_type": "stream",
     "text": [
      "Box(3,)\n",
      "[1. 1. 8.] [-1. -1. -8.]\n",
      "[0.26985008 0.08330062 5.7982063 ]\n",
      "Box(1,)\n",
      "[2.] [-2.]\n"
     ]
    }
   ],
   "source": [
    "#env = gym.make('MountainCar-v0')\n",
    "#print(env.observation_space)\n",
    "#print(env.action_space)\n",
    "#env = gym.make('MountainCarContinuous-v0')\n",
    "#env = gym.make('Pendulum-v0')\n",
    "print(env.observation_space)\n",
    "print(env.observation_space.high, env.observation_space.low)\n",
    "print(env.action_space)\n",
    "print(env.action_space.high, env.action_space.low)\n",
    "#gym.envs.registry.all()"
   ]
  },
  {
   "cell_type": "code",
   "execution_count": 14,
   "metadata": {},
   "outputs": [],
   "source": [
    "env.close()"
   ]
  },
  {
   "cell_type": "code",
   "execution_count": null,
   "metadata": {},
   "outputs": [],
   "source": []
  }
 ],
 "metadata": {
  "kernelspec": {
   "display_name": "Python 3",
   "language": "python",
   "name": "python3"
  },
  "language_info": {
   "codemirror_mode": {
    "name": "ipython",
    "version": 3
   },
   "file_extension": ".py",
   "mimetype": "text/x-python",
   "name": "python",
   "nbconvert_exporter": "python",
   "pygments_lexer": "ipython3",
   "version": "3.7.3"
  }
 },
 "nbformat": 4,
 "nbformat_minor": 2
}
