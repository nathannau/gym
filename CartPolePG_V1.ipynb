{
 "cells": [
  {
   "cell_type": "code",
   "execution_count": null,
   "metadata": {},
   "outputs": [],
   "source": [
    "import gym\n",
    "import tensorflow as tf\n",
    "import numpy as np\n",
    "import random\n",
    "import matplotlib.pyplot as plt\n"
   ]
  },
  {
   "cell_type": "code",
   "execution_count": null,
   "metadata": {},
   "outputs": [],
   "source": [
    "env = gym.make('CartPole-v1')"
   ]
  },
  {
   "cell_type": "code",
   "execution_count": null,
   "metadata": {},
   "outputs": [],
   "source": [
    "#param\n",
    "\n",
    "LEARNING_RATE = 0.001 # pour AdamOptimizer\n",
    "GAMMA = 0.99 # taux pour reward => advantage\n",
    "\n",
    "MEMORY_SIZE = 100 # memoire min avant train\n"
   ]
  },
  {
   "cell_type": "code",
   "execution_count": null,
   "metadata": {},
   "outputs": [],
   "source": [
    "class Agent(tf.keras.Model):\n",
    "\n",
    "    def __init__(self):\n",
    "        super(Agent, self).__init__()\n",
    "        \n",
    "        # Define your layers here.\n",
    "        self.dense1 = tf.keras.layers.Dense(32, activation='relu')\n",
    "        self.dense2 = tf.keras.layers.Dense(2, activation='softmax')\n",
    "\n",
    "    def call(self, inputs):\n",
    "        tmp = tf.convert_to_tensor(inputs)\n",
    "        tmp = self.dense1(tmp)\n",
    "        tmp = self.dense2(tmp)\n",
    "\n",
    "        logits = tmp\n",
    "        logs_pi = tf.math.log(logits)\n",
    "        return logits, logs_pi\n",
    "\n",
    "    def explore(self, inputs):\n",
    "        logits, logs_pi = self(inputs)\n",
    "        return tf.squeeze(tf.random.categorical(logits, 1)), tf.squeeze(logs_pi)\n",
    "\n",
    "    def exploit(self, inputs):\n",
    "        logits, _ = self(inputs)\n",
    "        return tf.math.argmax(logits)\n"
   ]
  },
  {
   "cell_type": "code",
   "execution_count": null,
   "metadata": {},
   "outputs": [],
   "source": [
    "agent = Agent()\n",
    "agent.build(tf.TensorShape([None,4]))\n",
    "#agent.compile(optimizer=tf.keras.optimizers.Adam(LEARNING_RATE),\n",
    "#    loss=\"mse\",\n",
    "#    metrics=['accuracy'])\n",
    "\n",
    "agent.summary()"
   ]
  },
  {
   "cell_type": "code",
   "execution_count": null,
   "metadata": {},
   "outputs": [],
   "source": [
    "memory = [] "
   ]
  },
  {
   "cell_type": "code",
   "execution_count": null,
   "metadata": {
    "scrolled": false
   },
   "outputs": [],
   "source": [
    "\n",
    "class LossFromMemory():\n",
    "    \"\"\" Calcul du loss \"\"\"\n",
    "    \n",
    "    def __init__(self, memory):\n",
    "        # Define your layers here.\n",
    "        self.memory = memory\n",
    "        self.approx_ent = None\n",
    "\n",
    "    def __call__(self):\n",
    "        # Récuperation des avantages\n",
    "        tf_adv = tf.convert_to_tensor( [ mem['ad'] for mem in memory ] )\n",
    "        \n",
    "        # Récupérations des états\n",
    "        states = [ mem['s'] for mem in memory ]\n",
    "        # Récupération des l'actions choisies\n",
    "        actions = [ mem['a'] for mem in memory ]\n",
    "        \n",
    "        _, logs_pi = agent(states) # Recalcule des logs de la Policy (pour récupérer les gradients)\n",
    "        logp_a_op = tf.reduce_sum( logs_pi * tf.one_hot(actions, 2), axis=1 ) # Ne conserve que les logs qui corresponds à l'action\n",
    "\n",
    "        pi_loss = -tf.reduce_mean(logp_a_op * tf_adv) # Calcul l'esperance de (log.pi().advantage)\n",
    "        \n",
    "        self.approx_ent = tf.reduce_mean(-logp_a_op) # Calcul de l'entropie\n",
    "        \n",
    "        return pi_loss\n",
    "\n",
    "for epoch in range(1,500) :\n",
    "    print(\"Epoch : \", epoch)\n",
    "    state = env.reset()\n",
    "    \n",
    "    step = 0\n",
    "    epoch_memory = [] # Memoire de l'époque\n",
    "\n",
    "    while True :\n",
    "        step += 1\n",
    "\n",
    "        env.render()\n",
    "\n",
    "        action, logs_pi = agent.explore([state]) # recupere l'action depuis la policy\n",
    "        \n",
    "        state_next, reward, done, info = env.step(action.numpy()) \n",
    "        if done : reward = -1.0 # si finie : reward negatif\n",
    "        \n",
    "        epoch_memory.append({ \"s\": state, \"a\": action, \"r\": reward, \"l\": logs_pi, \"d\": done, \"sn\": state_next }) # memorique l'étape\n",
    "        \n",
    "        state = state_next\n",
    "\n",
    "        if done :\n",
    "            advantage = 0\n",
    "            for mem in np.flip(epoch_memory) : # Calcule l'avantage\n",
    "                advantage = advantage * GAMMA + mem['r']\n",
    "                mem['ad'] = advantage\n",
    "                #print(advantage)\n",
    "            \n",
    "            memory.extend(epoch_memory) # ajout la epoque à la memoire globale\n",
    "            break\n",
    "        else :\n",
    "            print('.', end='')\n",
    "        \n",
    "        state = state_next\n",
    "        \n",
    "    if len(memory) >= MEMORY_SIZE :\n",
    "                \n",
    "        pi_loss = LossFromMemory(memory)\n",
    "\n",
    "        train_pi = tf.optimizers.Adam(\n",
    "                learning_rate=LEARNING_RATE\n",
    "            ).minimize(\n",
    "                loss=pi_loss, \n",
    "                var_list=agent.trainable_variables\n",
    "            ) # train\n",
    "\n",
    "        print(train_pi.numpy(), pi_loss.approx_ent.numpy())\n",
    "            "
   ]
  },
  {
   "cell_type": "code",
   "execution_count": null,
   "metadata": {},
   "outputs": [],
   "source": [
    "env.close()\n"
   ]
  }
 ],
 "metadata": {
  "kernelspec": {
   "display_name": "Python 3",
   "language": "python",
   "name": "python3"
  },
  "language_info": {
   "codemirror_mode": {
    "name": "ipython",
    "version": 3
   },
   "file_extension": ".py",
   "mimetype": "text/x-python",
   "name": "python",
   "nbconvert_exporter": "python",
   "pygments_lexer": "ipython3",
   "version": "3.7.3"
  }
 },
 "nbformat": 4,
 "nbformat_minor": 2
}
