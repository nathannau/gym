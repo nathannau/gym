{
 "cells": [
  {
   "cell_type": "code",
   "execution_count": 1,
   "metadata": {},
   "outputs": [],
   "source": [
    "import gym\n",
    "import tensorflow as tf\n",
    "import numpy as np\n",
    "import random"
   ]
  },
  {
   "cell_type": "code",
   "execution_count": 2,
   "metadata": {},
   "outputs": [],
   "source": [
    "env = gym.make('CartPole-v1')"
   ]
  },
  {
   "cell_type": "code",
   "execution_count": 3,
   "metadata": {},
   "outputs": [],
   "source": [
    "#param\n",
    "l = 0.9 # lambda\n",
    "a = 0.1 # learning rate\n",
    "eg = 1.0 # epsilon greedy\n",
    "egMin = 0.05"
   ]
  },
  {
   "cell_type": "code",
   "execution_count": 4,
   "metadata": {},
   "outputs": [],
   "source": [
    "class Agent(tf.keras.Model):\n",
    "\n",
    "  def __init__(self):\n",
    "    super(Agent, self).__init__(name='mon_agent')\n",
    "    # Define your layers here.\n",
    "    self.dense = tf.keras.layers.Dense(2, activation='relu', input_shape=(4,))\n",
    "\n",
    "  def call(self, inputs):\n",
    "    return self.dense(inputs)\n"
   ]
  },
  {
   "cell_type": "code",
   "execution_count": 5,
   "metadata": {},
   "outputs": [],
   "source": [
    "class MaskedMSE(tf.keras.losses.Loss) :\n",
    "  def call(self, y_true, y_pred):\n",
    "    print( y_true, y_pred)\n",
    "    y_true = y_true * y_pred[\"mask\"]\n",
    "    y_pred = y_pred[\"mask\"] * y_pred[\"value\"]\n",
    "    #ops.convert_to_tensor(y_pred)\n",
    "    r = tf.keras.losses.mse(y_true, y_pred)\n",
    "    print(y_true, y_pred, r)\n",
    "    return r\n",
    "    #y_pred = ops.convert_to_tensor(y_pred)\n",
    "    #y_true = math_ops.cast(y_true, y_pred.dtype)\n",
    "    #return K.mean(math_ops.square(y_pred - y_true), axis=-1)\n"
   ]
  },
  {
   "cell_type": "code",
   "execution_count": 6,
   "metadata": {},
   "outputs": [
    {
     "name": "stdout",
     "output_type": "stream",
     "text": [
      "Model: \"mon_agent\"\n",
      "_________________________________________________________________\n",
      "Layer (type)                 Output Shape              Param #   \n",
      "=================================================================\n",
      "dense (Dense)                multiple                  10        \n",
      "=================================================================\n",
      "Total params: 10\n",
      "Trainable params: 10\n",
      "Non-trainable params: 0\n",
      "_________________________________________________________________\n"
     ]
    }
   ],
   "source": [
    "agent = Agent()\n",
    "agent.compile(optimizer=tf.keras.optimizers.Adam(),\n",
    "#              loss=MaskedMSE,\n",
    "    metrics=['accuracy'])\n",
    "\n",
    "agent.build(tf.TensorShape([None,4]))\n",
    "#encoder.build((5,1,1))\n",
    "agent.summary()\n",
    "\n",
    "#print(agent([[0,0,0,0]]));\n"
   ]
  },
  {
   "cell_type": "code",
   "execution_count": 7,
   "metadata": {},
   "outputs": [
    {
     "name": "stdout",
     "output_type": "stream",
     "text": [
      "eG:  0.95\n"
     ]
    }
   ],
   "source": [
    "#i = 0\n",
    "#r = 0\n",
    "\n",
    "for epi in range(1,50) :\n",
    "    memory = { \"states\":[], \"targets\":[]}\n",
    "    state = env.reset()\n",
    "\n",
    "    # * * * explore * * *\n",
    "    for step in range(epi * 100):\n",
    "        env.render()\n",
    "        #print(state)\n",
    "        if (random.random() > eg) :\n",
    "            Qs = agent([state])[0];\n",
    "            action = np.argmax(Qs);\n",
    "            Q = Qs[action]\n",
    "            #print(\"State: \", state, \" Qs: \", Qs.numpy(), \" Action: \", action, \" Q: \", Q.numpy())\n",
    "        else :\n",
    "            Qs = agent([state])[0];\n",
    "            action = random.randrange(2)\n",
    "            Q = Qs[action]\n",
    "            #print(\"State: \", state, \" Action: \", action, \" Q: \", Q.numpy())\n",
    "            \n",
    "        memory[\"states\"].append(state)\n",
    "        mask = [0,0]\n",
    "        mask[action] = 1\n",
    "        state, rewards, done, info = env.step(action)\n",
    "        \n",
    "        Qs = agent([state])[0];\n",
    "        Q = Q + a * (rewards + l * np.max(Qs) - Q)\n",
    "        #print(\"rewards: \", rewards, \" Qs: \", Qs.numpy(), \" Q: \", Q.numpy(), \" mask: \", mask)\n",
    "        \n",
    "        memory[\"targets\"].append( { \"mask\": mask, \"action\":action, \"value\":Q } )\n",
    "        if done: state = env.reset()\n",
    "        \n",
    "    #print(memory)\n",
    "    eg = max(egMin, eg*.95)\n",
    "    print(\"eG: \", eg)\n",
    "    \n",
    "    # * * * learn * * *\n",
    "#    agent.fit(memory[\"states\"], memory[\"targets\"], batch_size=32, steps_per_epoch=10)\n",
    "    break\n",
    "    \n",
    "    \n",
    "    "
   ]
  },
  {
   "cell_type": "code",
   "execution_count": 8,
   "metadata": {},
   "outputs": [
    {
     "name": "stdout",
     "output_type": "stream",
     "text": [
      "[array([ 0.02749484, -0.04465773, -0.01172934, -0.00055651]), array([ 0.02660169, -0.23960952, -0.01174047,  0.28840271]), array([ 0.0218095 , -0.4345621 , -0.00597242,  0.5773598 ]), array([ 0.01311825, -0.62959983,  0.00557478,  0.8681553 ]), array([ 5.26257315e-04, -8.24797190e-01,  2.29378855e-02,  1.16258577e+00]), array([-0.01596969, -0.62998134,  0.0461896 ,  0.87718201]), array([-0.02856931, -0.43551655,  0.06373324,  0.59937085]), array([-0.03727964, -0.24134146,  0.07572066,  0.32742445]), array([-0.04210647, -0.04737462,  0.08226915,  0.05954849]), array([-0.04305397, -0.24357388,  0.08346012,  0.37701187]), array([-0.04792544, -0.4397759 ,  0.09100035,  0.69479928]), array([-0.05672096, -0.63603434,  0.10489634,  1.01468607]), array([-0.06944165, -0.83238697,  0.12519006,  1.3383791 ]), array([-0.08608939, -1.02884331,  0.15195764,  1.66746721]), array([-0.10666625, -1.22537103,  0.18530699,  2.00336562]), array([ 0.04812939, -0.04125079,  0.01056953, -0.02583695]), array([ 0.04730437,  0.153718  ,  0.01005279, -0.31516642]), array([ 0.05037873,  0.34869532,  0.00374946, -0.60466215]), array([ 0.05735264,  0.54376464, -0.00834378, -0.89616173]), array([ 0.06822793,  0.3487568 , -0.02626702, -0.6061132 ]), array([ 0.07520307,  0.54423601, -0.03838928, -0.90695247]), array([ 0.08608779,  0.73985609, -0.05652833, -1.21145008]), array([ 0.10088491,  0.93566039, -0.08075733, -1.52129787]), array([ 0.11959812,  0.74160185, -0.11118329, -1.2548756 ]), array([ 0.13443016,  0.93795788, -0.1362808 , -1.58021164]), array([ 0.15318931,  0.74469633, -0.16788503, -1.33294979]), array([ 0.16808324,  0.9414893 , -0.19454403, -1.67311567]), array([-0.01924682,  0.04811858,  0.00857281, -0.01497858]), array([-0.01828445,  0.24311654,  0.00827324, -0.30494441]), array([-0.01342212,  0.43811962,  0.00217435, -0.59500671]), array([-0.00465973,  0.63321107, -0.00972578, -0.88700393]), array([ 0.00800449,  0.82846368, -0.02746586, -1.18272833]), array([ 0.02457377,  0.6337087 , -0.05112042, -0.89877999]), array([ 0.03724794,  0.43931548, -0.06909602, -0.62259394]), array([ 0.04603425,  0.24522291, -0.0815479 , -0.35244786]), array([ 0.05093871,  0.05134955, -0.08859686, -0.08655276]), array([ 0.0519657 , -0.14239809, -0.09032792,  0.17691543]), array([ 0.04911774, -0.33611906, -0.08678961,  0.43979193]), array([ 0.04239536, -0.52991238, -0.07799377,  0.70390367]), array([ 0.03179711, -0.33380119, -0.06391569,  0.38772422]), array([ 0.02512109, -0.5279604 , -0.05616121,  0.65958993]), array([ 0.01456188, -0.72225764, -0.04296941,  0.93407357]), array([ 1.16725101e-04, -5.26583183e-01, -2.42879406e-02,  6.28203692e-01]), array([-0.01041494, -0.33113083, -0.01172387,  0.32797168]), array([-0.01703756, -0.13584395, -0.00516443,  0.03161475]), array([-0.01975443,  0.05935168, -0.00453214, -0.26269312]), array([-0.0185674 ,  0.25453803, -0.009786  , -0.55680208]), array([-0.01347664,  0.44979599, -0.02092204, -0.85255204]), array([-0.00448072,  0.64519681, -0.03797308, -1.15173976]), array([ 0.00842322,  0.84079307, -0.06100788, -1.45608404]), array([ 0.02523908,  1.03660842, -0.09012956, -1.76718581]), array([ 0.04597125,  0.84261283, -0.12547328, -1.50383578]), array([ 0.0628235 ,  0.64921703, -0.15554999, -1.25281506]), array([ 0.07580784,  0.84595125, -0.18060629, -1.58990098]), array([-0.01343229, -0.02683372, -0.04945146, -0.04444679]), array([-0.01396897,  0.16896118, -0.0503404 , -0.35231292]), array([-0.01058974,  0.3647615 , -0.05738666, -0.66043516]), array([-0.00329451,  0.17048311, -0.07059536, -0.38635971]), array([ 1.15150385e-04,  3.66532497e-01, -7.83225531e-02, -7.00439104e-01]), array([ 0.0074458 ,  0.17257865, -0.09233134, -0.43340351]), array([ 0.01089737,  0.36887825, -0.10099941, -0.75370557]), array([ 0.01827494,  0.56523691, -0.11607352, -1.07638593]), array([ 0.02957968,  0.76168491, -0.13760124, -1.40312412]), array([ 0.04481337,  0.56851402, -0.16566372, -1.15643382]), array([ 0.05618366,  0.37589282, -0.18879239, -0.91994041]), array([ 0.06370151,  0.57299554, -0.2071912 , -1.26551701]), array([-0.00152861,  0.01455128,  0.01893908,  0.04092301]), array([-0.00123759,  0.2093966 ,  0.01975754, -0.24572479]), array([0.00295035, 0.01399812, 0.01484305, 0.05312407]), array([ 0.00323031, -0.18133349,  0.01590553,  0.35045289]), array([-3.96360891e-04, -3.76677986e-01,  2.29145878e-02,  6.48108608e-01]), array([-0.00792992, -0.57211155,  0.03587676,  0.9479183 ]), array([-0.01937215, -0.76769773,  0.05483513,  1.25165428]), array([-0.03472611, -0.96347772,  0.07986821,  1.56099631]), array([-0.05399566, -1.15945929,  0.11108814,  1.87748784]), array([-0.07718485, -0.96571042,  0.14863789,  1.6212487 ]), array([-0.09649905, -0.77261899,  0.18106287,  1.37834399]), array([-0.11195143, -0.9694804 ,  0.20862975,  1.72175102]), array([-0.04471875, -0.03130398,  0.00880384, -0.01870222]), array([-0.04534483, -0.22655108,  0.0084298 ,  0.27674537]), array([-0.04987585, -0.42179227,  0.0139647 ,  0.57207509]), array([-0.05831169, -0.22686889,  0.02540621,  0.28382402]), array([-0.06284907, -0.03211835,  0.03108269, -0.0007389 ]), array([-0.06349144, -0.22767196,  0.03106791,  0.30158667]), array([-0.06804488, -0.03300627,  0.03709964,  0.01886154]), array([-0.068705  ,  0.16156453,  0.03747687, -0.26188904]), array([-0.06547371, -0.03407179,  0.03223909,  0.042375  ]), array([-0.06615515,  0.16057339,  0.03308659, -0.23996439]), array([-0.06294368,  0.35520745,  0.0282873 , -0.52203001]), array([-0.05583953,  0.15969899,  0.0178467 , -0.2205693 ]), array([-0.05264555, -0.03567345,  0.01343532,  0.07768935]), array([-0.05335902, -0.2309854 ,  0.0149891 ,  0.3745807 ]), array([-0.05797873, -0.03607954,  0.02248072,  0.08666138]), array([-0.05870032, -0.2315164 ,  0.02421395,  0.38635137]), array([-0.06333065, -0.0367464 ,  0.03194097,  0.10140022]), array([-0.06406558, -0.23231121,  0.03396898,  0.40398685]), array([-0.0687118 , -0.42789803,  0.04204872,  0.7071828 ]), array([-0.07726976, -0.6235765 ,  0.05619237,  1.01279974]), array([-0.08974129, -0.81940124,  0.07644837,  1.32258508]), array([-0.10612932, -1.01540131,  0.10290007,  1.63818043])] [{'mask': [1, 0], 'action': 0, 'value': <tf.Tensor: id=64, shape=(), dtype=float32, numpy=0.112384655>}, {'mask': [1, 0], 'action': 0, 'value': <tf.Tensor: id=97, shape=(), dtype=float32, numpy=0.25034901>}, {'mask': [1, 0], 'action': 0, 'value': <tf.Tensor: id=130, shape=(), dtype=float32, numpy=0.40553397>}, {'mask': [1, 0], 'action': 0, 'value': <tf.Tensor: id=163, shape=(), dtype=float32, numpy=0.55962485>}, {'mask': [0, 1], 'action': 1, 'value': <tf.Tensor: id=196, shape=(), dtype=float32, numpy=0.1394844>}, {'mask': [0, 1], 'action': 1, 'value': <tf.Tensor: id=229, shape=(), dtype=float32, numpy=0.12525097>}, {'mask': [0, 1], 'action': 1, 'value': <tf.Tensor: id=262, shape=(), dtype=float32, numpy=0.11169597>}, {'mask': [0, 1], 'action': 1, 'value': <tf.Tensor: id=295, shape=(), dtype=float32, numpy=0.1>}, {'mask': [1, 0], 'action': 0, 'value': <tf.Tensor: id=328, shape=(), dtype=float32, numpy=0.115124606>}, {'mask': [1, 0], 'action': 0, 'value': <tf.Tensor: id=361, shape=(), dtype=float32, numpy=0.2825574>}, {'mask': [1, 0], 'action': 0, 'value': <tf.Tensor: id=394, shape=(), dtype=float32, numpy=0.4604848>}, {'mask': [1, 0], 'action': 0, 'value': <tf.Tensor: id=427, shape=(), dtype=float32, numpy=0.637148>}, {'mask': [1, 0], 'action': 0, 'value': <tf.Tensor: id=460, shape=(), dtype=float32, numpy=0.813944>}, {'mask': [1, 0], 'action': 0, 'value': <tf.Tensor: id=493, shape=(), dtype=float32, numpy=0.9921545>}, {'mask': [1, 0], 'action': 0, 'value': <tf.Tensor: id=526, shape=(), dtype=float32, numpy=1.1729057>}, {'mask': [0, 1], 'action': 1, 'value': <tf.Tensor: id=559, shape=(), dtype=float32, numpy=0.20252404>}, {'mask': [0, 1], 'action': 1, 'value': <tf.Tensor: id=592, shape=(), dtype=float32, numpy=0.28032988>}, {'mask': [0, 1], 'action': 1, 'value': <tf.Tensor: id=625, shape=(), dtype=float32, numpy=0.36646843>}, {'mask': [1, 0], 'action': 0, 'value': <tf.Tensor: id=658, shape=(), dtype=float32, numpy=0.12714666>}, {'mask': [0, 1], 'action': 1, 'value': <tf.Tensor: id=691, shape=(), dtype=float32, numpy=0.40794632>}, {'mask': [0, 1], 'action': 1, 'value': <tf.Tensor: id=724, shape=(), dtype=float32, numpy=0.5116345>}, {'mask': [0, 1], 'action': 1, 'value': <tf.Tensor: id=757, shape=(), dtype=float32, numpy=0.6267265>}, {'mask': [1, 0], 'action': 0, 'value': <tf.Tensor: id=790, shape=(), dtype=float32, numpy=0.15673359>}, {'mask': [0, 1], 'action': 1, 'value': <tf.Tensor: id=823, shape=(), dtype=float32, numpy=0.7368166>}, {'mask': [1, 0], 'action': 0, 'value': <tf.Tensor: id=856, shape=(), dtype=float32, numpy=0.16938184>}, {'mask': [0, 1], 'action': 1, 'value': <tf.Tensor: id=889, shape=(), dtype=float32, numpy=0.8771864>}, {'mask': [0, 1], 'action': 1, 'value': <tf.Tensor: id=922, shape=(), dtype=float32, numpy=1.0323316>}, {'mask': [0, 1], 'action': 1, 'value': <tf.Tensor: id=955, shape=(), dtype=float32, numpy=0.10228085>}, {'mask': [0, 1], 'action': 1, 'value': <tf.Tensor: id=988, shape=(), dtype=float32, numpy=0.13302007>}, {'mask': [0, 1], 'action': 1, 'value': <tf.Tensor: id=1021, shape=(), dtype=float32, numpy=0.22113639>}, {'mask': [0, 1], 'action': 1, 'value': <tf.Tensor: id=1054, shape=(), dtype=float32, numpy=0.3190492>}, {'mask': [1, 0], 'action': 0, 'value': <tf.Tensor: id=1087, shape=(), dtype=float32, numpy=0.1252574>}, {'mask': [1, 0], 'action': 0, 'value': <tf.Tensor: id=1120, shape=(), dtype=float32, numpy=0.12152369>}, {'mask': [1, 0], 'action': 0, 'value': <tf.Tensor: id=1153, shape=(), dtype=float32, numpy=0.11752503>}, {'mask': [1, 0], 'action': 0, 'value': <tf.Tensor: id=1186, shape=(), dtype=float32, numpy=0.11313683>}, {'mask': [1, 0], 'action': 0, 'value': <tf.Tensor: id=1219, shape=(), dtype=float32, numpy=0.112024404>}, {'mask': [1, 0], 'action': 0, 'value': <tf.Tensor: id=1252, shape=(), dtype=float32, numpy=0.24450098>}, {'mask': [1, 0], 'action': 0, 'value': <tf.Tensor: id=1285, shape=(), dtype=float32, numpy=0.37893373>}, {'mask': [0, 1], 'action': 1, 'value': <tf.Tensor: id=1318, shape=(), dtype=float32, numpy=0.119389236>}, {'mask': [1, 0], 'action': 0, 'value': <tf.Tensor: id=1351, shape=(), dtype=float32, numpy=0.3260399>}, {'mask': [1, 0], 'action': 0, 'value': <tf.Tensor: id=1384, shape=(), dtype=float32, numpy=0.46634912>}, {'mask': [0, 1], 'action': 1, 'value': <tf.Tensor: id=1417, shape=(), dtype=float32, numpy=0.12850235>}, {'mask': [0, 1], 'action': 1, 'value': <tf.Tensor: id=1450, shape=(), dtype=float32, numpy=0.11282989>}, {'mask': [0, 1], 'action': 1, 'value': <tf.Tensor: id=1483, shape=(), dtype=float32, numpy=0.11487543>}, {'mask': [0, 1], 'action': 1, 'value': <tf.Tensor: id=1516, shape=(), dtype=float32, numpy=0.18747598>}, {'mask': [0, 1], 'action': 1, 'value': <tf.Tensor: id=1549, shape=(), dtype=float32, numpy=0.26670122>}, {'mask': [0, 1], 'action': 1, 'value': <tf.Tensor: id=1582, shape=(), dtype=float32, numpy=0.35404053>}, {'mask': [0, 1], 'action': 1, 'value': <tf.Tensor: id=1615, shape=(), dtype=float32, numpy=0.4510032>}, {'mask': [0, 1], 'action': 1, 'value': <tf.Tensor: id=1648, shape=(), dtype=float32, numpy=0.55909735>}, {'mask': [0, 1], 'action': 1, 'value': <tf.Tensor: id=1681, shape=(), dtype=float32, numpy=0.67980677>}, {'mask': [1, 0], 'action': 0, 'value': <tf.Tensor: id=1714, shape=(), dtype=float32, numpy=0.16285972>}, {'mask': [1, 0], 'action': 0, 'value': <tf.Tensor: id=1747, shape=(), dtype=float32, numpy=0.16220932>}, {'mask': [0, 1], 'action': 1, 'value': <tf.Tensor: id=1780, shape=(), dtype=float32, numpy=0.7977788>}, {'mask': [0, 1], 'action': 1, 'value': <tf.Tensor: id=1813, shape=(), dtype=float32, numpy=0.94729215>}, {'mask': [0, 1], 'action': 1, 'value': <tf.Tensor: id=1846, shape=(), dtype=float32, numpy=0.19544175>}, {'mask': [0, 1], 'action': 1, 'value': <tf.Tensor: id=1879, shape=(), dtype=float32, numpy=0.28906322>}, {'mask': [1, 0], 'action': 0, 'value': <tf.Tensor: id=1912, shape=(), dtype=float32, numpy=0.12120338>}, {'mask': [0, 1], 'action': 1, 'value': <tf.Tensor: id=1945, shape=(), dtype=float32, numpy=0.34295267>}, {'mask': [1, 0], 'action': 0, 'value': <tf.Tensor: id=1978, shape=(), dtype=float32, numpy=0.12713663>}, {'mask': [0, 1], 'action': 1, 'value': <tf.Tensor: id=2011, shape=(), dtype=float32, numpy=0.4087543>}, {'mask': [0, 1], 'action': 1, 'value': <tf.Tensor: id=2044, shape=(), dtype=float32, numpy=0.522477>}, {'mask': [0, 1], 'action': 1, 'value': <tf.Tensor: id=2077, shape=(), dtype=float32, numpy=0.646884>}, {'mask': [1, 0], 'action': 0, 'value': <tf.Tensor: id=2110, shape=(), dtype=float32, numpy=0.16029368>}, {'mask': [1, 0], 'action': 0, 'value': <tf.Tensor: id=2143, shape=(), dtype=float32, numpy=0.15977022>}, {'mask': [0, 1], 'action': 1, 'value': <tf.Tensor: id=2176, shape=(), dtype=float32, numpy=0.77065724>}, {'mask': [0, 1], 'action': 1, 'value': <tf.Tensor: id=2209, shape=(), dtype=float32, numpy=0.9168352>}, {'mask': [0, 1], 'action': 1, 'value': <tf.Tensor: id=2242, shape=(), dtype=float32, numpy=0.10099913>}, {'mask': [1, 0], 'action': 0, 'value': <tf.Tensor: id=2275, shape=(), dtype=float32, numpy=0.1036422>}, {'mask': [1, 0], 'action': 0, 'value': <tf.Tensor: id=2308, shape=(), dtype=float32, numpy=0.15495943>}, {'mask': [1, 0], 'action': 0, 'value': <tf.Tensor: id=2341, shape=(), dtype=float32, numpy=0.31857014>}, {'mask': [1, 0], 'action': 0, 'value': <tf.Tensor: id=2374, shape=(), dtype=float32, numpy=0.4797206>}, {'mask': [1, 0], 'action': 0, 'value': <tf.Tensor: id=2407, shape=(), dtype=float32, numpy=0.6399217>}, {'mask': [1, 0], 'action': 0, 'value': <tf.Tensor: id=2440, shape=(), dtype=float32, numpy=0.8006156>}, {'mask': [1, 0], 'action': 0, 'value': <tf.Tensor: id=2473, shape=(), dtype=float32, numpy=0.96314794>}, {'mask': [0, 1], 'action': 1, 'value': <tf.Tensor: id=2506, shape=(), dtype=float32, numpy=0.17857233>}, {'mask': [0, 1], 'action': 1, 'value': <tf.Tensor: id=2539, shape=(), dtype=float32, numpy=0.16623615>}, {'mask': [1, 0], 'action': 0, 'value': <tf.Tensor: id=2572, shape=(), dtype=float32, numpy=0.84578145>}, {'mask': [1, 0], 'action': 0, 'value': <tf.Tensor: id=2605, shape=(), dtype=float32, numpy=1.034974>}, {'mask': [1, 0], 'action': 0, 'value': <tf.Tensor: id=2638, shape=(), dtype=float32, numpy=0.11296252>}, {'mask': [1, 0], 'action': 0, 'value': <tf.Tensor: id=2671, shape=(), dtype=float32, numpy=0.25719386>}, {'mask': [0, 1], 'action': 1, 'value': <tf.Tensor: id=2704, shape=(), dtype=float32, numpy=0.1128089>}, {'mask': [0, 1], 'action': 1, 'value': <tf.Tensor: id=2737, shape=(), dtype=float32, numpy=0.1>}, {'mask': [1, 0], 'action': 0, 'value': <tf.Tensor: id=2770, shape=(), dtype=float32, numpy=0.113947906>}, {'mask': [0, 1], 'action': 1, 'value': <tf.Tensor: id=2803, shape=(), dtype=float32, numpy=0.1>}, {'mask': [0, 1], 'action': 1, 'value': <tf.Tensor: id=2836, shape=(), dtype=float32, numpy=0.1>}, {'mask': [1, 0], 'action': 0, 'value': <tf.Tensor: id=2869, shape=(), dtype=float32, numpy=0.10184151>}, {'mask': [0, 1], 'action': 1, 'value': <tf.Tensor: id=2902, shape=(), dtype=float32, numpy=0.1>}, {'mask': [0, 1], 'action': 1, 'value': <tf.Tensor: id=2935, shape=(), dtype=float32, numpy=0.10511309>}, {'mask': [1, 0], 'action': 0, 'value': <tf.Tensor: id=2968, shape=(), dtype=float32, numpy=0.1>}, {'mask': [1, 0], 'action': 0, 'value': <tf.Tensor: id=3001, shape=(), dtype=float32, numpy=0.10531976>}, {'mask': [1, 0], 'action': 0, 'value': <tf.Tensor: id=3034, shape=(), dtype=float32, numpy=0.17337883>}, {'mask': [0, 1], 'action': 1, 'value': <tf.Tensor: id=3067, shape=(), dtype=float32, numpy=0.10558168>}, {'mask': [1, 0], 'action': 0, 'value': <tf.Tensor: id=3100, shape=(), dtype=float32, numpy=0.17646006>}, {'mask': [0, 1], 'action': 1, 'value': <tf.Tensor: id=3133, shape=(), dtype=float32, numpy=0.10625317>}, {'mask': [1, 0], 'action': 0, 'value': <tf.Tensor: id=3166, shape=(), dtype=float32, numpy=0.18404691>}, {'mask': [1, 0], 'action': 0, 'value': <tf.Tensor: id=3199, shape=(), dtype=float32, numpy=0.35170838>}, {'mask': [1, 0], 'action': 0, 'value': <tf.Tensor: id=3232, shape=(), dtype=float32, numpy=0.51707196>}, {'mask': [1, 0], 'action': 0, 'value': <tf.Tensor: id=3265, shape=(), dtype=float32, numpy=0.6816336>}, {'mask': [1, 0], 'action': 0, 'value': <tf.Tensor: id=3298, shape=(), dtype=float32, numpy=0.8468138>}, {'mask': [1, 0], 'action': 0, 'value': <tf.Tensor: id=3331, shape=(), dtype=float32, numpy=1.0139266>}]\n"
     ]
    }
   ],
   "source": [
    "print(memory[\"states\"], memory[\"targets\"])"
   ]
  },
  {
   "cell_type": "code",
   "execution_count": 9,
   "metadata": {},
   "outputs": [],
   "source": [
    "env.close()"
   ]
  },
  {
   "cell_type": "code",
   "execution_count": 46,
   "metadata": {},
   "outputs": [
    {
     "name": "stdout",
     "output_type": "stream",
     "text": [
      "Train on 10 samples\n",
      "Epoch 1/10\n",
      "10/10 [==============================] - 0s 4ms/sample - loss: 0.2139 - accuracy: 0.6000\n",
      "Epoch 2/10\n",
      "10/10 [==============================] - 0s 199us/sample - loss: 0.2138 - accuracy: 0.6000\n",
      "Epoch 3/10\n",
      "10/10 [==============================] - 0s 100us/sample - loss: 0.2137 - accuracy: 0.6000\n",
      "Epoch 4/10\n",
      "10/10 [==============================] - 0s 100us/sample - loss: 0.2136 - accuracy: 0.6000\n",
      "Epoch 5/10\n",
      "10/10 [==============================] - 0s 199us/sample - loss: 0.2135 - accuracy: 0.6000\n",
      "Epoch 6/10\n",
      "10/10 [==============================] - 0s 199us/sample - loss: 0.2134 - accuracy: 0.6000\n",
      "Epoch 7/10\n",
      "10/10 [==============================] - 0s 100us/sample - loss: 0.2133 - accuracy: 0.6000\n",
      "Epoch 8/10\n",
      "10/10 [==============================] - 0s 200us/sample - loss: 0.2133 - accuracy: 0.6000\n",
      "Epoch 9/10\n",
      "10/10 [==============================] - 0s 299us/sample - loss: 0.2132 - accuracy: 0.6000\n",
      "Epoch 10/10\n",
      "10/10 [==============================] - 0s 199us/sample - loss: 0.2131 - accuracy: 0.6000\n"
     ]
    }
   ],
   "source": [
    "#print(memory[\"states\"][0], memory[\"targets\"][0], memory[\"targets\"][0][\"value\"].numpy())\n",
    "#x = [[-0.01512732,  0.02205488, -0.02799687,  0.00528442]]\n",
    "#y = [0.14108522 , 0.14108522]\n",
    "#agent.fit(x, y, batch_size=1, steps_per_epoch=10)\n",
    "#.fit(memory[\"states\"], memory[\"targets\"], batch_size=32, steps_per_epoch=10)\n",
    "\n",
    "class LossTest(tf.keras.losses.Loss) :\n",
    "    def call(self, y_true, y_pred):\n",
    "        #print(y_pred, y_true)\n",
    "        r = tf.keras.metrics.mean_squared_error(y_pred, y_true)\n",
    "        return r\n",
    "\n",
    "class Trainning(tf.keras.Model):\n",
    "    def __init__(self, agent):\n",
    "        super(Trainning, self).__init__()\n",
    "        # Define your layers here.\n",
    "        self.agent = agent\n",
    "        #self.dense = tf.keras.layers.Dense(2, activation='relu', input_shape=(4,))\n",
    "\n",
    "    def call(self, inputs):\n",
    "        [states, masks] = inputs\n",
    "        #tf.print(states)\n",
    "        #tf.print(masks)\n",
    "        #tf.keras.backend.print_tensor(states)\n",
    "        #tf.keras.backend.print_tensor(masks)\n",
    "        #print(inputs)\n",
    "        #print(states, masks)\n",
    "        return agent(states) * mask\n",
    "        \n",
    "        #return self.dense(inputs)\n",
    "\n",
    "\n",
    "agent = Agent()\n",
    "agent.compile(optimizer=tf.keras.optimizers.Adam(),\n",
    "    loss=LossTest(),\n",
    "#    sample_weight_mode=\"temporal\",\n",
    "    metrics=['accuracy'])\n",
    "\n",
    "agent.build(tf.TensorShape([None,4]))\n",
    "\n",
    "trainning = Trainning(agent)\n",
    "trainning.compile(optimizer=tf.keras.optimizers.Adam(),\n",
    "    loss=LossTest(),\n",
    "#    sample_weight_mode=\"temporal\",\n",
    "    metrics=['accuracy'])\n",
    "\n",
    "#trainning.build([tf.TensorShape([None,4]), tf.TensorShape([None,2])])\n",
    "state_input = tf.keras.Input(shape=(4), name='state_input')\n",
    "mask_input = tf.keras.Input(shape=(2), name='mask_input')\n",
    "trainning([state_input, mask_input])\n",
    "#tf.keras.utils.plot_model(trainning, 'multi_input_and_output_model.png', show_shapes=True)\n",
    "\n",
    "\n",
    "#trainning.build(tf.TensorShape([[None,4], [None,2]]))\n",
    "#trainning.build([None,4])\n",
    "\n",
    "#agent.summary()\n",
    "\n",
    "data = np.random.random((10, 4))\n",
    "\n",
    "masks = np.array([ [0.,1.] if random.random()<=0.5 else [1.,0.] for i in range(10) ])\n",
    "#masks = np.zeros((10,2))\n",
    "labels = np.random.random((10, 2)) * masks\n",
    "#for i in masks :\n",
    "#    print(i)\n",
    "#print(labels);\n",
    "#print(type(masks), masks);\n",
    "#masks = np.zeros((10,2))\n",
    "#print(type(masks), masks);\n",
    "\n",
    "#print(masks)\n",
    "#print(data, labels)\n",
    "#agent.fit(data, labels, sample_weight=masks ,epochs=10, batch_size=32)\n",
    "#agent.fit(data, labels, epochs=10, batch_size=32)\n",
    "his = trainning.fit([data, masks], labels, epochs=10, batch_size=10)\n",
    "#print (his)\n",
    "#print(agent.input_spec)"
   ]
  }
 ],
 "metadata": {
  "kernelspec": {
   "display_name": "Python 3",
   "language": "python",
   "name": "python3"
  },
  "language_info": {
   "codemirror_mode": {
    "name": "ipython",
    "version": 3
   },
   "file_extension": ".py",
   "mimetype": "text/x-python",
   "name": "python",
   "nbconvert_exporter": "python",
   "pygments_lexer": "ipython3",
   "version": "3.7.3"
  }
 },
 "nbformat": 4,
 "nbformat_minor": 2
}
